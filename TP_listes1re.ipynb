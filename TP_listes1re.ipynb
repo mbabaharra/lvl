{
 "cells": [
  {
   "cell_type": "markdown",
   "metadata": {},
   "source": [
    "# Les listes\n",
    "## Définition et syntaxe \n",
    "###  Création d'une liste\n",
    "    • Une liste est une collection ordonnée d’objets repérés par leur indice (une liste indexée) : \n",
    "    • Pour créer une liste, rien de plus simple :  lui attribuant un nom et mettre les éléments de la liste entre crochets.\n",
    "Syntaxe : une liste de taille n  \n",
    "                              NomListe=élément_1[élément_1,élément_2,…,élément_n]"
   ]
  },
  {
   "cell_type": "code",
   "execution_count": 3,
   "metadata": {},
   "outputs": [
    {
     "name": "stdout",
     "output_type": "stream",
     "text": [
      "[]\n",
      "0\n"
     ]
    }
   ],
   "source": [
    "liste1=[]    # Je crée une liste vide\n",
    "print(liste1)    # J'affiche la liste\n",
    "print(len(liste1))    # J'affiche la taille de la liste # len=lenght=longueur"
   ]
  },
  {
   "cell_type": "code",
   "execution_count": 16,
   "metadata": {},
   "outputs": [],
   "source": [
    "mes_notes=[13.75,17,8,16.5,9,11,15]  # mes_notes est une liste numérique."
   ]
  },
  {
   "cell_type": "raw",
   "metadata": {},
   "source": [
    "Questions \n",
    "Afficher les éléments de mes_notes et la taille de cette liste"
   ]
  },
  {
   "cell_type": "code",
   "execution_count": 23,
   "metadata": {},
   "outputs": [
    {
     "name": "stdout",
     "output_type": "stream",
     "text": [
      "['Tom', 'Fanny', 'Victor', 'Ysa']\n"
     ]
    }
   ],
   "source": [
    "mes_amis=['Tom','Fanny','Victor','Ysa'] # mes_amis une liste de texte\n",
    "print(mes_amis)"
   ]
  },
  {
   "cell_type": "raw",
   "metadata": {},
   "source": [
    "Questions \n",
    "Afficher les éléments de mes_amis et la taille de cette liste"
   ]
  },
  {
   "cell_type": "code",
   "execution_count": 31,
   "metadata": {},
   "outputs": [],
   "source": [
    "calepin=['Tom',3112001,'Fanny',15082000,'Victor',13091999,'Ysa',1122002,',23*11+1'] # un petit mélange "
   ]
  },
  {
   "cell_type": "raw",
   "metadata": {},
   "source": [
    "Questions \n",
    "Afficher les éléments de calepin et la taille de cette liste"
   ]
  },
  {
   "cell_type": "raw",
   "metadata": {},
   "source": [
    "Remarque.   \n",
    "Vous avez déjà rencontrer la fonction python « range() »  qui génère une liste ordonnée d’entiers :"
   ]
  },
  {
   "cell_type": "code",
   "execution_count": 37,
   "metadata": {},
   "outputs": [
    {
     "name": "stdout",
     "output_type": "stream",
     "text": [
      "range(0, 7)\n"
     ]
    }
   ],
   "source": [
    "a=range(7)\n",
    "print(a)"
   ]
  },
  {
   "cell_type": "code",
   "execution_count": 34,
   "metadata": {},
   "outputs": [
    {
     "ename": "SyntaxError",
     "evalue": "unexpected EOF while parsing (<ipython-input-34-f51d0bb6809c>, line 2)",
     "output_type": "error",
     "traceback": [
      "\u001b[0;36m  File \u001b[0;32m\"<ipython-input-34-f51d0bb6809c>\"\u001b[0;36m, line \u001b[0;32m2\u001b[0m\n\u001b[0;31m    \u001b[0m\n\u001b[0m    ^\u001b[0m\n\u001b[0;31mSyntaxError\u001b[0m\u001b[0;31m:\u001b[0m unexpected EOF while parsing\n"
     ]
    }
   ],
   "source": [
    "for i in range(5):\n",
    "      print(i)\n",
    "  "
   ]
  },
  {
   "cell_type": "raw",
   "metadata": {},
   "source": [
    "On remarque que : "
   ]
  },
  {
   "cell_type": "code",
   "execution_count": null,
   "metadata": {},
   "outputs": [],
   "source": [
    "for i in range(3,9):\n",
    "    print(i)"
   ]
  },
  {
   "cell_type": "raw",
   "metadata": {},
   "source": [
    "On remarque que : "
   ]
  },
  {
   "cell_type": "code",
   "execution_count": 35,
   "metadata": {},
   "outputs": [
    {
     "name": "stdout",
     "output_type": "stream",
     "text": [
      "0\n",
      "7\n",
      "14\n",
      "21\n",
      "28\n",
      "35\n",
      "42\n",
      "49\n",
      "56\n",
      "63\n",
      "70\n"
     ]
    }
   ],
   "source": [
    "for i in range(1,19,3):\n",
    "    print(i)"
   ]
  },
  {
   "cell_type": "raw",
   "metadata": {},
   "source": [
    "On remarque que : "
   ]
  },
  {
   "cell_type": "markdown",
   "metadata": {},
   "source": [
    "#### Question: \n",
    "Utiliser la fonction range() pour afficher les multiples de 7 entre 11 et 154"
   ]
  },
  {
   "cell_type": "markdown",
   "metadata": {},
   "source": [
    "L'instruction list() :\n",
    " En utilisant l'instruction liste()On peut transformer le résultat d'une range() en liste : "
   ]
  },
  {
   "cell_type": "code",
   "execution_count": 39,
   "metadata": {},
   "outputs": [
    {
     "name": "stdout",
     "output_type": "stream",
     "text": [
      "[0, 1, 2, 3, 4, 5, 6]\n"
     ]
    }
   ],
   "source": [
    "a=range(7)\n",
    "print(list(a))"
   ]
  },
  {
   "cell_type": "raw",
   "metadata": {},
   "source": [
    "Question : Convertir en liste range(3,9) et range(3,13,3)"
   ]
  },
  {
   "cell_type": "code",
   "execution_count": null,
   "metadata": {},
   "outputs": [],
   "source": []
  },
  {
   "cell_type": "raw",
   "metadata": {},
   "source": [
    "Accéder à un élément ou une partie de la liste:\n",
    "Que font les instruction suivante. Ecrire la réponse après #: "
   ]
  },
  {
   "cell_type": "code",
   "execution_count": 41,
   "metadata": {},
   "outputs": [
    {
     "data": {
      "text/plain": [
       "17"
      ]
     },
     "execution_count": 41,
     "metadata": {},
     "output_type": "execute_result"
    }
   ],
   "source": [
    "mes_notes[1]     #\n",
    "mes_notes[-1]    #\n",
    "mes_notes[7]     #\n",
    "mes_notes[2:]    #\n",
    "mes_notes[:5]    #\n",
    "mes_notes[2:5]   #"
   ]
  },
  {
   "cell_type": "markdown",
   "metadata": {},
   "source": [
    "## Quelques Opérations sur les listes\n",
    "1. Ordonner une liste : \n",
    "On peut  ordonner une liste de nombres dans l’ordre croissant par les fonction sort() ou sorted(). "
   ]
  },
  {
   "cell_type": "code",
   "execution_count": 54,
   "metadata": {},
   "outputs": [
    {
     "name": "stdout",
     "output_type": "stream",
     "text": [
      "[8, 13, 16, 17]\n"
     ]
    }
   ],
   "source": [
    "mes_notes.sort()\n",
    "print(mes_notes)"
   ]
  },
  {
   "cell_type": "code",
   "execution_count": 55,
   "metadata": {},
   "outputs": [
    {
     "name": "stdout",
     "output_type": "stream",
     "text": [
      "[8, 13, 16, 17]\n"
     ]
    }
   ],
   "source": [
    "sorted(mes_notes)\n",
    "print(mes_notes)"
   ]
  },
  {
   "cell_type": "markdown",
   "metadata": {},
   "source": [
    "### 2. Ajouter un élèment à une liste.\n",
    "On utilise l'instruction append() peut ajouter un élèment à une liste, dans le sens de la agrandir.\n",
    "    liste2 = [19, 17, 16, 19,21]\n",
    "    liste2.append(9)\n",
    "Ajouter la nouvelle note 17.5 à la liste des notes mes_notes vue ci-dessus."
   ]
  },
  {
   "cell_type": "code",
   "execution_count": null,
   "metadata": {},
   "outputs": [],
   "source": []
  },
  {
   "cell_type": "markdown",
   "metadata": {},
   "source": [
    "## Exercice. \n",
    "### Exercice 1.\n",
    "On donne la fonction : \n",
    "def s_valeurs(maliste):\n",
    "    s=0\n",
    "    for x in ma liste:\n",
    "        s=s+x\n",
    "    return s\n",
    "        \n",
    "1. que fait la fonction s_valeurs() \n",
    "2. Tester cette fonction sur la liste mes_notes. \n",
    "3. Utiliser une boucle for pour inserer la liste des notes new_notes=[13,7,12,15,9] dans la liste mes_notes,\n",
    "4. Utiliser la fonction s_valeurs pour la note moyenne et la note mödiane des notes.\n",
    "\n"
   ]
  },
  {
   "cell_type": "code",
   "execution_count": 58,
   "metadata": {},
   "outputs": [
    {
     "name": "stdout",
     "output_type": "stream",
     "text": [
      "[-5, -2, 1, 4, 7, 10, 13, 16, 19, 22, 25, 28]\n"
     ]
    }
   ],
   "source": [
    "l=[]\n",
    "def u(n):\n",
    "    return 3*n-5\n",
    "for i in range(12):\n",
    "    l.append(u(i))\n",
    "print(l)\n",
    "    "
   ]
  },
  {
   "cell_type": "markdown",
   "metadata": {},
   "source": [
    "### Exercice 2- \n",
    "Soit u la suite définie sur N par u(n)=3n-5.\n",
    "1. Calculer les 11 premiers termes.\n",
    "2. Regrouper les 11 premiers termes dans une liste.\n",
    "3. Calculer la somme des 11 premiers terme."
   ]
  },
  {
   "cell_type": "code",
   "execution_count": null,
   "metadata": {},
   "outputs": [],
   "source": []
  },
  {
   "cell_type": "code",
   "execution_count": null,
   "metadata": {},
   "outputs": [],
   "source": []
  },
  {
   "cell_type": "markdown",
   "metadata": {},
   "source": [
    "###  Exercice. \n"
   ]
  }
 ],
 "metadata": {
  "kernelspec": {
   "display_name": "Python 3",
   "language": "python",
   "name": "python3"
  },
  "language_info": {
   "codemirror_mode": {
    "name": "ipython",
    "version": 3
   },
   "file_extension": ".py",
   "mimetype": "text/x-python",
   "name": "python",
   "nbconvert_exporter": "python",
   "pygments_lexer": "ipython3",
   "version": "3.7.4"
  }
 },
 "nbformat": 4,
 "nbformat_minor": 2
}
